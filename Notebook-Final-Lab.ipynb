{
 "cells": [
  {
   "cell_type": "code",
   "execution_count": 1,
   "id": "68a2bf4e",
   "metadata": {},
   "outputs": [
    {
     "name": "stdout",
     "output_type": "stream",
     "text": [
      "Collecting xgboost\n",
      "  Downloading xgboost-2.1.3-py3-none-manylinux2014_x86_64.whl.metadata (2.0 kB)\n",
      "Requirement already satisfied: numpy in /home/ec2-user/anaconda3/envs/python3/lib/python3.10/site-packages (from xgboost) (1.26.4)\n",
      "Requirement already satisfied: scipy in /home/ec2-user/anaconda3/envs/python3/lib/python3.10/site-packages (from xgboost) (1.14.1)\n",
      "Downloading xgboost-2.1.3-py3-none-manylinux2014_x86_64.whl (4.5 MB)\n",
      "\u001b[2K   \u001b[90m━━━━━━━━━━━━━━━━━━━━━━━━━━━━━━━━━━━━━━━━\u001b[0m \u001b[32m4.5/4.5 MB\u001b[0m \u001b[31m25.4 MB/s\u001b[0m eta \u001b[36m0:00:00\u001b[0m\n",
      "\u001b[?25hInstalling collected packages: xgboost\n",
      "Successfully installed xgboost-2.1.3\n"
     ]
    }
   ],
   "source": [
    "!pip install xgboost"
   ]
  },
  {
   "cell_type": "code",
   "execution_count": 2,
   "id": "e7d19e34",
   "metadata": {},
   "outputs": [
    {
     "name": "stdout",
     "output_type": "stream",
     "text": [
      "sagemaker.config INFO - Not applying SDK defaults from location: /etc/xdg/sagemaker/config.yaml\n",
      "sagemaker.config INFO - Not applying SDK defaults from location: /home/ec2-user/.config/sagemaker/config.yaml\n"
     ]
    },
    {
     "name": "stderr",
     "output_type": "stream",
     "text": [
      "/home/ec2-user/anaconda3/envs/python3/lib/python3.10/site-packages/xgboost/core.py:265: FutureWarning: Your system has an old version of glibc (< 2.28). We will stop supporting Linux distros with glibc older than 2.28 after **May 31, 2025**. Please upgrade to a recent Linux distro (with glibc 2.28+) to use future versions of XGBoost.\n",
      "Note: You have installed the 'manylinux2014' variant of XGBoost. Certain features such as GPU algorithms or federated learning are not available. To use these features, please upgrade to a recent Linux distro with glibc 2.28+, and install the 'manylinux_2_28' variant.\n",
      "  warnings.warn(\n"
     ]
    }
   ],
   "source": [
    "# Cargar librerías para ejecutar el modelo\n",
    "import sagemaker\n",
    "import boto3\n",
    "import joblib\n",
    "import pickle\n",
    "import tarfile\n",
    "import xgboost as xgb\n",
    "\n",
    "import pandas as pd\n",
    "import numpy as np\n",
    "import seaborn as sns\n",
    "import matplotlib.pyplot as plt\n",
    "import datetime\n",
    "\n",
    "\n",
    "from sklearn.preprocessing import StandardScaler\n",
    "from sagemaker.inputs import TrainingInput\n",
    "from sagemaker.serializers import CSVSerializer\n",
    "from sagemaker import get_execution_role\n",
    "from sagemaker.session import Session\n",
    "from sagemaker.tuner import HyperparameterTuner\n",
    "from sklearn.datasets import dump_svmlight_file\n",
    "\n",
    "from sklearn.model_selection import train_test_split\n",
    "from sklearn.metrics import accuracy_score, precision_score, recall_score, f1_score\n",
    "from sklearn.metrics import confusion_matrix, classification_report"
   ]
  },
  {
   "cell_type": "markdown",
   "id": "ff7203c6",
   "metadata": {},
   "source": [
    "# 1. Conexión y Configuración de S3"
   ]
  },
  {
   "cell_type": "code",
   "execution_count": 3,
   "id": "2acd5182",
   "metadata": {},
   "outputs": [],
   "source": [
    "# Variables para la conexión y configuración de S3\n",
    "role = get_execution_role()\n",
    "bucket = 'sagemaker-test-api-bucket20'\n",
    "data_key = 'proyecto_dir20/synthetic_customer_data.csv'\n",
    "data_location = f's3://{bucket}/{data_key}'"
   ]
  },
  {
   "cell_type": "markdown",
   "id": "8d5537ea",
   "metadata": {},
   "source": [
    "# 2. Leer los Datos"
   ]
  },
  {
   "cell_type": "code",
   "execution_count": 4,
   "id": "b144c031",
   "metadata": {},
   "outputs": [
    {
     "name": "stderr",
     "output_type": "stream",
     "text": [
      "/home/ec2-user/anaconda3/envs/python3/lib/python3.10/site-packages/fsspec/registry.py:279: UserWarning: Your installed version of s3fs is very old and known to cause\n",
      "severe performance issues, see also https://github.com/dask/dask/issues/10276\n",
      "\n",
      "To fix, you should specify a lower version bound on s3fs, or\n",
      "update the current installation.\n",
      "\n",
      "  warnings.warn(s3_msg)\n"
     ]
    }
   ],
   "source": [
    "# Leer los datos desde S3\n",
    "data = pd.read_csv(data_location)"
   ]
  },
  {
   "cell_type": "code",
   "execution_count": 5,
   "id": "517229b8",
   "metadata": {},
   "outputs": [
    {
     "data": {
      "text/html": [
       "<div>\n",
       "<style scoped>\n",
       "    .dataframe tbody tr th:only-of-type {\n",
       "        vertical-align: middle;\n",
       "    }\n",
       "\n",
       "    .dataframe tbody tr th {\n",
       "        vertical-align: top;\n",
       "    }\n",
       "\n",
       "    .dataframe thead th {\n",
       "        text-align: right;\n",
       "    }\n",
       "</style>\n",
       "<table border=\"1\" class=\"dataframe\">\n",
       "  <thead>\n",
       "    <tr style=\"text-align: right;\">\n",
       "      <th></th>\n",
       "      <th>customer_id</th>\n",
       "      <th>age</th>\n",
       "      <th>gender</th>\n",
       "      <th>annual_income</th>\n",
       "      <th>total_spent</th>\n",
       "      <th>num_purchases</th>\n",
       "      <th>avg_purchase_value</th>\n",
       "      <th>online_activity_score</th>\n",
       "      <th>loyalty_program</th>\n",
       "      <th>days_since_last_purchase</th>\n",
       "      <th>num_site_visits</th>\n",
       "      <th>customer_segment</th>\n",
       "    </tr>\n",
       "  </thead>\n",
       "  <tbody>\n",
       "    <tr>\n",
       "      <th>0</th>\n",
       "      <td>CUST_0001</td>\n",
       "      <td>56</td>\n",
       "      <td>Male</td>\n",
       "      <td>65648</td>\n",
       "      <td>49624.926758</td>\n",
       "      <td>17</td>\n",
       "      <td>467.729972</td>\n",
       "      <td>52.525842</td>\n",
       "      <td>0</td>\n",
       "      <td>235</td>\n",
       "      <td>61</td>\n",
       "      <td>medium_value</td>\n",
       "    </tr>\n",
       "    <tr>\n",
       "      <th>1</th>\n",
       "      <td>CUST_0002</td>\n",
       "      <td>69</td>\n",
       "      <td>Male</td>\n",
       "      <td>123537</td>\n",
       "      <td>46357.348299</td>\n",
       "      <td>196</td>\n",
       "      <td>874.799829</td>\n",
       "      <td>11.120875</td>\n",
       "      <td>0</td>\n",
       "      <td>182</td>\n",
       "      <td>48</td>\n",
       "      <td>medium_value</td>\n",
       "    </tr>\n",
       "    <tr>\n",
       "      <th>2</th>\n",
       "      <td>CUST_0003</td>\n",
       "      <td>46</td>\n",
       "      <td>Male</td>\n",
       "      <td>145991</td>\n",
       "      <td>27043.860801</td>\n",
       "      <td>175</td>\n",
       "      <td>207.419293</td>\n",
       "      <td>86.816930</td>\n",
       "      <td>0</td>\n",
       "      <td>199</td>\n",
       "      <td>50</td>\n",
       "      <td>medium_value</td>\n",
       "    </tr>\n",
       "    <tr>\n",
       "      <th>3</th>\n",
       "      <td>CUST_0004</td>\n",
       "      <td>32</td>\n",
       "      <td>Female</td>\n",
       "      <td>29516</td>\n",
       "      <td>42117.461389</td>\n",
       "      <td>25</td>\n",
       "      <td>131.749484</td>\n",
       "      <td>29.736153</td>\n",
       "      <td>0</td>\n",
       "      <td>356</td>\n",
       "      <td>32</td>\n",
       "      <td>medium_value</td>\n",
       "    </tr>\n",
       "    <tr>\n",
       "      <th>4</th>\n",
       "      <td>CUST_0005</td>\n",
       "      <td>60</td>\n",
       "      <td>Male</td>\n",
       "      <td>132863</td>\n",
       "      <td>26095.803066</td>\n",
       "      <td>94</td>\n",
       "      <td>289.081236</td>\n",
       "      <td>16.253799</td>\n",
       "      <td>1</td>\n",
       "      <td>245</td>\n",
       "      <td>29</td>\n",
       "      <td>high_value</td>\n",
       "    </tr>\n",
       "  </tbody>\n",
       "</table>\n",
       "</div>"
      ],
      "text/plain": [
       "  customer_id  age  gender  annual_income   total_spent  num_purchases  \\\n",
       "0   CUST_0001   56    Male          65648  49624.926758             17   \n",
       "1   CUST_0002   69    Male         123537  46357.348299            196   \n",
       "2   CUST_0003   46    Male         145991  27043.860801            175   \n",
       "3   CUST_0004   32  Female          29516  42117.461389             25   \n",
       "4   CUST_0005   60    Male         132863  26095.803066             94   \n",
       "\n",
       "   avg_purchase_value  online_activity_score  loyalty_program  \\\n",
       "0          467.729972              52.525842                0   \n",
       "1          874.799829              11.120875                0   \n",
       "2          207.419293              86.816930                0   \n",
       "3          131.749484              29.736153                0   \n",
       "4          289.081236              16.253799                1   \n",
       "\n",
       "   days_since_last_purchase  num_site_visits customer_segment  \n",
       "0                       235               61     medium_value  \n",
       "1                       182               48     medium_value  \n",
       "2                       199               50     medium_value  \n",
       "3                       356               32     medium_value  \n",
       "4                       245               29       high_value  "
      ]
     },
     "execution_count": 5,
     "metadata": {},
     "output_type": "execute_result"
    }
   ],
   "source": [
    "data.head()"
   ]
  },
  {
   "cell_type": "code",
   "execution_count": 6,
   "id": "83cac052",
   "metadata": {},
   "outputs": [
    {
     "name": "stdout",
     "output_type": "stream",
     "text": [
      "<class 'pandas.core.frame.DataFrame'>\n",
      "RangeIndex: 1000 entries, 0 to 999\n",
      "Data columns (total 12 columns):\n",
      " #   Column                    Non-Null Count  Dtype  \n",
      "---  ------                    --------------  -----  \n",
      " 0   customer_id               1000 non-null   object \n",
      " 1   age                       1000 non-null   int64  \n",
      " 2   gender                    1000 non-null   object \n",
      " 3   annual_income             1000 non-null   int64  \n",
      " 4   total_spent               1000 non-null   float64\n",
      " 5   num_purchases             1000 non-null   int64  \n",
      " 6   avg_purchase_value        1000 non-null   float64\n",
      " 7   online_activity_score     1000 non-null   float64\n",
      " 8   loyalty_program           1000 non-null   int64  \n",
      " 9   days_since_last_purchase  1000 non-null   int64  \n",
      " 10  num_site_visits           1000 non-null   int64  \n",
      " 11  customer_segment          1000 non-null   object \n",
      "dtypes: float64(3), int64(6), object(3)\n",
      "memory usage: 93.9+ KB\n"
     ]
    }
   ],
   "source": [
    "data.info()"
   ]
  },
  {
   "cell_type": "code",
   "execution_count": 7,
   "id": "1e8bf49e",
   "metadata": {},
   "outputs": [
    {
     "name": "stdout",
     "output_type": "stream",
     "text": [
      "['medium_value' 'high_value' 'low_value']\n"
     ]
    }
   ],
   "source": [
    "# Asegurar coincidencia exacta en todas las subcategorías\n",
    "data['customer_segment'] = data['customer_segment'].str.lower().str.strip()\n",
    "print(data['customer_segment'].unique())\n",
    "\n",
    "# Mapeo manual de las categorías\n",
    "data['customer_segment'] = data['customer_segment'].map({\n",
    "    'low_value': 0,\n",
    "    'medium_value': 1,\n",
    "    'high_value': 2\n",
    "})\n",
    "\n"
   ]
  },
  {
   "cell_type": "code",
   "execution_count": 8,
   "id": "3cf635cc",
   "metadata": {},
   "outputs": [
    {
     "name": "stdout",
     "output_type": "stream",
     "text": [
      "[1 2 0]\n"
     ]
    }
   ],
   "source": [
    "print(data['customer_segment'].unique())"
   ]
  },
  {
   "cell_type": "code",
   "execution_count": 9,
   "id": "a4dbf20b",
   "metadata": {},
   "outputs": [
    {
     "name": "stdout",
     "output_type": "stream",
     "text": [
      "['male' 'female']\n"
     ]
    }
   ],
   "source": [
    "# Asegurar coincidencia exacta en todas las subcategorías\n",
    "data['gender'] = data['gender'].str.lower().str.strip()\n",
    "print(data['gender'].unique())"
   ]
  },
  {
   "cell_type": "code",
   "execution_count": 10,
   "id": "ef781847",
   "metadata": {},
   "outputs": [],
   "source": [
    "# Convertir la variable categórica gender a numérica\n",
    "data['gender'] = data['gender'].map({'male': 0, 'female': 1})"
   ]
  },
  {
   "cell_type": "code",
   "execution_count": 11,
   "id": "91754ab7",
   "metadata": {},
   "outputs": [
    {
     "data": {
      "text/html": [
       "<div>\n",
       "<style scoped>\n",
       "    .dataframe tbody tr th:only-of-type {\n",
       "        vertical-align: middle;\n",
       "    }\n",
       "\n",
       "    .dataframe tbody tr th {\n",
       "        vertical-align: top;\n",
       "    }\n",
       "\n",
       "    .dataframe thead th {\n",
       "        text-align: right;\n",
       "    }\n",
       "</style>\n",
       "<table border=\"1\" class=\"dataframe\">\n",
       "  <thead>\n",
       "    <tr style=\"text-align: right;\">\n",
       "      <th></th>\n",
       "      <th>customer_id</th>\n",
       "      <th>age</th>\n",
       "      <th>gender</th>\n",
       "      <th>annual_income</th>\n",
       "      <th>total_spent</th>\n",
       "      <th>num_purchases</th>\n",
       "      <th>avg_purchase_value</th>\n",
       "      <th>online_activity_score</th>\n",
       "      <th>loyalty_program</th>\n",
       "      <th>days_since_last_purchase</th>\n",
       "      <th>num_site_visits</th>\n",
       "      <th>customer_segment</th>\n",
       "    </tr>\n",
       "  </thead>\n",
       "  <tbody>\n",
       "    <tr>\n",
       "      <th>0</th>\n",
       "      <td>CUST_0001</td>\n",
       "      <td>56</td>\n",
       "      <td>0</td>\n",
       "      <td>65648</td>\n",
       "      <td>49624.926758</td>\n",
       "      <td>17</td>\n",
       "      <td>467.729972</td>\n",
       "      <td>52.525842</td>\n",
       "      <td>0</td>\n",
       "      <td>235</td>\n",
       "      <td>61</td>\n",
       "      <td>1</td>\n",
       "    </tr>\n",
       "    <tr>\n",
       "      <th>1</th>\n",
       "      <td>CUST_0002</td>\n",
       "      <td>69</td>\n",
       "      <td>0</td>\n",
       "      <td>123537</td>\n",
       "      <td>46357.348299</td>\n",
       "      <td>196</td>\n",
       "      <td>874.799829</td>\n",
       "      <td>11.120875</td>\n",
       "      <td>0</td>\n",
       "      <td>182</td>\n",
       "      <td>48</td>\n",
       "      <td>1</td>\n",
       "    </tr>\n",
       "    <tr>\n",
       "      <th>2</th>\n",
       "      <td>CUST_0003</td>\n",
       "      <td>46</td>\n",
       "      <td>0</td>\n",
       "      <td>145991</td>\n",
       "      <td>27043.860801</td>\n",
       "      <td>175</td>\n",
       "      <td>207.419293</td>\n",
       "      <td>86.816930</td>\n",
       "      <td>0</td>\n",
       "      <td>199</td>\n",
       "      <td>50</td>\n",
       "      <td>1</td>\n",
       "    </tr>\n",
       "    <tr>\n",
       "      <th>3</th>\n",
       "      <td>CUST_0004</td>\n",
       "      <td>32</td>\n",
       "      <td>1</td>\n",
       "      <td>29516</td>\n",
       "      <td>42117.461389</td>\n",
       "      <td>25</td>\n",
       "      <td>131.749484</td>\n",
       "      <td>29.736153</td>\n",
       "      <td>0</td>\n",
       "      <td>356</td>\n",
       "      <td>32</td>\n",
       "      <td>1</td>\n",
       "    </tr>\n",
       "    <tr>\n",
       "      <th>4</th>\n",
       "      <td>CUST_0005</td>\n",
       "      <td>60</td>\n",
       "      <td>0</td>\n",
       "      <td>132863</td>\n",
       "      <td>26095.803066</td>\n",
       "      <td>94</td>\n",
       "      <td>289.081236</td>\n",
       "      <td>16.253799</td>\n",
       "      <td>1</td>\n",
       "      <td>245</td>\n",
       "      <td>29</td>\n",
       "      <td>2</td>\n",
       "    </tr>\n",
       "  </tbody>\n",
       "</table>\n",
       "</div>"
      ],
      "text/plain": [
       "  customer_id  age  gender  annual_income   total_spent  num_purchases  \\\n",
       "0   CUST_0001   56       0          65648  49624.926758             17   \n",
       "1   CUST_0002   69       0         123537  46357.348299            196   \n",
       "2   CUST_0003   46       0         145991  27043.860801            175   \n",
       "3   CUST_0004   32       1          29516  42117.461389             25   \n",
       "4   CUST_0005   60       0         132863  26095.803066             94   \n",
       "\n",
       "   avg_purchase_value  online_activity_score  loyalty_program  \\\n",
       "0          467.729972              52.525842                0   \n",
       "1          874.799829              11.120875                0   \n",
       "2          207.419293              86.816930                0   \n",
       "3          131.749484              29.736153                0   \n",
       "4          289.081236              16.253799                1   \n",
       "\n",
       "   days_since_last_purchase  num_site_visits  customer_segment  \n",
       "0                       235               61                 1  \n",
       "1                       182               48                 1  \n",
       "2                       199               50                 1  \n",
       "3                       356               32                 1  \n",
       "4                       245               29                 2  "
      ]
     },
     "execution_count": 11,
     "metadata": {},
     "output_type": "execute_result"
    }
   ],
   "source": [
    "data.head()"
   ]
  },
  {
   "cell_type": "code",
   "execution_count": 12,
   "id": "3549a293",
   "metadata": {},
   "outputs": [
    {
     "data": {
      "image/png": "[encoded data removed]",
      "text/plain": [
       "<Figure size 2000x1500 with 11 Axes>"
      ]
     },
     "metadata": {},
     "output_type": "display_data"
    }
   ],
   "source": [
    "# Filtrar columnas numéricas con al menos dos valores únicos\n",
    "numeric_cols = [col for col in data.select_dtypes(include=['int', 'float']).columns if data[col].nunique() > 1]\n",
    "\n",
    "# Configurar el número de filas y columnas\n",
    "num_cols = 4  # Máximo de gráficos por fila\n",
    "num_rows = (len(numeric_cols) + num_cols - 1) // num_cols  # Calcular el número de filas necesarias\n",
    "\n",
    "# Crear figura con un subgráfico para cada columna\n",
    "fig, axes = plt.subplots(num_rows, num_cols, figsize=(5 * num_cols, 5 * num_rows))\n",
    "\n",
    "# Aplanar los ejes para iterar fácilmente y esconder los gráficos vacíos\n",
    "axes = axes.flatten()\n",
    "\n",
    "for i, col in enumerate(numeric_cols):\n",
    "    sns.boxplot(data=data, x=col, ax=axes[i], color=\"#33FF57\")\n",
    "    axes[i].set_title(f'Boxplot of {col}')\n",
    "    \n",
    "# Eliminar cualquier gráfico vacío en la cuadrícula\n",
    "for j in range(len(numeric_cols), len(axes)):\n",
    "    fig.delaxes(axes[j])\n",
    "\n",
    "plt.tight_layout()\n",
    "plt.show()"
   ]
  },
  {
   "cell_type": "markdown",
   "id": "f95e827c",
   "metadata": {},
   "source": [
    "# 3. Escalado de los Datos"
   ]
  },
  {
   "cell_type": "code",
   "execution_count": 13,
   "id": "aead3731",
   "metadata": {},
   "outputs": [],
   "source": [
    "# Normalizar las características numéricas\n",
    "scaler = StandardScaler()\n",
    "data[['age', 'annual_income', 'total_spent', 'num_purchases', 'avg_purchase_value', 'online_activity_score',\n",
    "    'days_since_last_purchase', 'num_site_visits']] = scaler.fit_transform(data[['age', 'annual_income',\n",
    "    'total_spent', 'num_purchases', 'avg_purchase_value', 'online_activity_score', 'days_since_last_purchase',\n",
    "    'num_site_visits']])"
   ]
  },
  {
   "cell_type": "code",
   "execution_count": 14,
   "id": "fdb8d245",
   "metadata": {},
   "outputs": [
    {
     "data": {
      "text/html": [
       "<div>\n",
       "<style scoped>\n",
       "    .dataframe tbody tr th:only-of-type {\n",
       "        vertical-align: middle;\n",
       "    }\n",
       "\n",
       "    .dataframe tbody tr th {\n",
       "        vertical-align: top;\n",
       "    }\n",
       "\n",
       "    .dataframe thead th {\n",
       "        text-align: right;\n",
       "    }\n",
       "</style>\n",
       "<table border=\"1\" class=\"dataframe\">\n",
       "  <thead>\n",
       "    <tr style=\"text-align: right;\">\n",
       "      <th></th>\n",
       "      <th>age</th>\n",
       "      <th>gender</th>\n",
       "      <th>annual_income</th>\n",
       "      <th>total_spent</th>\n",
       "      <th>num_purchases</th>\n",
       "      <th>avg_purchase_value</th>\n",
       "      <th>online_activity_score</th>\n",
       "      <th>loyalty_program</th>\n",
       "      <th>days_since_last_purchase</th>\n",
       "      <th>num_site_visits</th>\n",
       "      <th>customer_segment</th>\n",
       "    </tr>\n",
       "  </thead>\n",
       "  <tbody>\n",
       "    <tr>\n",
       "      <th>count</th>\n",
       "      <td>1.000000e+03</td>\n",
       "      <td>1000.000000</td>\n",
       "      <td>1.000000e+03</td>\n",
       "      <td>1.000000e+03</td>\n",
       "      <td>1.000000e+03</td>\n",
       "      <td>1.000000e+03</td>\n",
       "      <td>1.000000e+03</td>\n",
       "      <td>1000.000000</td>\n",
       "      <td>1.000000e+03</td>\n",
       "      <td>1.000000e+03</td>\n",
       "      <td>1000.000000</td>\n",
       "    </tr>\n",
       "    <tr>\n",
       "      <th>mean</th>\n",
       "      <td>-1.634248e-16</td>\n",
       "      <td>0.476000</td>\n",
       "      <td>1.048051e-16</td>\n",
       "      <td>-5.062617e-17</td>\n",
       "      <td>4.973799e-17</td>\n",
       "      <td>2.309264e-16</td>\n",
       "      <td>4.263256e-17</td>\n",
       "      <td>0.289000</td>\n",
       "      <td>-9.237056e-17</td>\n",
       "      <td>9.592327e-17</td>\n",
       "      <td>1.130000</td>\n",
       "    </tr>\n",
       "    <tr>\n",
       "      <th>std</th>\n",
       "      <td>1.000500e+00</td>\n",
       "      <td>0.499674</td>\n",
       "      <td>1.000500e+00</td>\n",
       "      <td>1.000500e+00</td>\n",
       "      <td>1.000500e+00</td>\n",
       "      <td>1.000500e+00</td>\n",
       "      <td>1.000500e+00</td>\n",
       "      <td>0.453525</td>\n",
       "      <td>1.000500e+00</td>\n",
       "      <td>1.000500e+00</td>\n",
       "      <td>0.353872</td>\n",
       "    </tr>\n",
       "    <tr>\n",
       "      <th>min</th>\n",
       "      <td>-1.723158e+00</td>\n",
       "      <td>0.000000</td>\n",
       "      <td>-1.746715e+00</td>\n",
       "      <td>-1.732114e+00</td>\n",
       "      <td>-1.762860e+00</td>\n",
       "      <td>-1.733979e+00</td>\n",
       "      <td>-1.716971e+00</td>\n",
       "      <td>0.000000</td>\n",
       "      <td>-1.761541e+00</td>\n",
       "      <td>-1.777414e+00</td>\n",
       "      <td>0.000000</td>\n",
       "    </tr>\n",
       "    <tr>\n",
       "      <th>25%</th>\n",
       "      <td>-8.555393e-01</td>\n",
       "      <td>0.000000</td>\n",
       "      <td>-8.980375e-01</td>\n",
       "      <td>-8.339142e-01</td>\n",
       "      <td>-8.195260e-01</td>\n",
       "      <td>-8.578916e-01</td>\n",
       "      <td>-8.625125e-01</td>\n",
       "      <td>0.000000</td>\n",
       "      <td>-8.514117e-01</td>\n",
       "      <td>-8.744857e-01</td>\n",
       "      <td>1.000000</td>\n",
       "    </tr>\n",
       "    <tr>\n",
       "      <th>50%</th>\n",
       "      <td>1.207993e-02</td>\n",
       "      <td>0.000000</td>\n",
       "      <td>3.526967e-02</td>\n",
       "      <td>1.722782e-02</td>\n",
       "      <td>-7.831453e-04</td>\n",
       "      <td>1.464792e-02</td>\n",
       "      <td>-2.015594e-02</td>\n",
       "      <td>0.000000</td>\n",
       "      <td>-1.313460e-02</td>\n",
       "      <td>6.317022e-02</td>\n",
       "      <td>1.000000</td>\n",
       "    </tr>\n",
       "    <tr>\n",
       "      <th>75%</th>\n",
       "      <td>8.129592e-01</td>\n",
       "      <td>1.000000</td>\n",
       "      <td>8.943481e-01</td>\n",
       "      <td>8.774285e-01</td>\n",
       "      <td>8.713559e-01</td>\n",
       "      <td>8.820597e-01</td>\n",
       "      <td>8.672596e-01</td>\n",
       "      <td>1.000000</td>\n",
       "      <td>8.922047e-01</td>\n",
       "      <td>8.966421e-01</td>\n",
       "      <td>1.000000</td>\n",
       "    </tr>\n",
       "    <tr>\n",
       "      <th>max</th>\n",
       "      <td>1.680578e+00</td>\n",
       "      <td>1.000000</td>\n",
       "      <td>1.636694e+00</td>\n",
       "      <td>1.722187e+00</td>\n",
       "      <td>1.761294e+00</td>\n",
       "      <td>1.725767e+00</td>\n",
       "      <td>1.785272e+00</td>\n",
       "      <td>1.000000</td>\n",
       "      <td>1.716111e+00</td>\n",
       "      <td>1.660658e+00</td>\n",
       "      <td>2.000000</td>\n",
       "    </tr>\n",
       "  </tbody>\n",
       "</table>\n",
       "</div>"
      ],
      "text/plain": [
       "                age       gender  annual_income   total_spent  num_purchases  \\\n",
       "count  1.000000e+03  1000.000000   1.000000e+03  1.000000e+03   1.000000e+03   \n",
       "mean  -1.634248e-16     0.476000   1.048051e-16 -5.062617e-17   4.973799e-17   \n",
       "std    1.000500e+00     0.499674   1.000500e+00  1.000500e+00   1.000500e+00   \n",
       "min   -1.723158e+00     0.000000  -1.746715e+00 -1.732114e+00  -1.762860e+00   \n",
       "25%   -8.555393e-01     0.000000  -8.980375e-01 -8.339142e-01  -8.195260e-01   \n",
       "50%    1.207993e-02     0.000000   3.526967e-02  1.722782e-02  -7.831453e-04   \n",
       "75%    8.129592e-01     1.000000   8.943481e-01  8.774285e-01   8.713559e-01   \n",
       "max    1.680578e+00     1.000000   1.636694e+00  1.722187e+00   1.761294e+00   \n",
       "\n",
       "       avg_purchase_value  online_activity_score  loyalty_program  \\\n",
       "count        1.000000e+03           1.000000e+03      1000.000000   \n",
       "mean         2.309264e-16           4.263256e-17         0.289000   \n",
       "std          1.000500e+00           1.000500e+00         0.453525   \n",
       "min         -1.733979e+00          -1.716971e+00         0.000000   \n",
       "25%         -8.578916e-01          -8.625125e-01         0.000000   \n",
       "50%          1.464792e-02          -2.015594e-02         0.000000   \n",
       "75%          8.820597e-01           8.672596e-01         1.000000   \n",
       "max          1.725767e+00           1.785272e+00         1.000000   \n",
       "\n",
       "       days_since_last_purchase  num_site_visits  customer_segment  \n",
       "count              1.000000e+03     1.000000e+03       1000.000000  \n",
       "mean              -9.237056e-17     9.592327e-17          1.130000  \n",
       "std                1.000500e+00     1.000500e+00          0.353872  \n",
       "min               -1.761541e+00    -1.777414e+00          0.000000  \n",
       "25%               -8.514117e-01    -8.744857e-01          1.000000  \n",
       "50%               -1.313460e-02     6.317022e-02          1.000000  \n",
       "75%                8.922047e-01     8.966421e-01          1.000000  \n",
       "max                1.716111e+00     1.660658e+00          2.000000  "
      ]
     },
     "execution_count": 14,
     "metadata": {},
     "output_type": "execute_result"
    }
   ],
   "source": [
    "data.describe() #Obtener las estadísticas descriptivas de las columnas numéricas\n",
    "#Visualizar la existencia de Outliers"
   ]
  },
  {
   "cell_type": "markdown",
   "id": "257ab756",
   "metadata": {},
   "source": [
    "# 4. División de Datos en Conjuntos de Entrenamiento y Prueba"
   ]
  },
  {
   "cell_type": "code",
   "execution_count": 15,
   "id": "2a87a445",
   "metadata": {},
   "outputs": [
    {
     "name": "stdout",
     "output_type": "stream",
     "text": [
      "Tamaño de X_train: 800\n"
     ]
    }
   ],
   "source": [
    "# Definir las variables X (características) y y (etiquetas)\n",
    "X = data.drop(columns=['customer_id', 'customer_segment'])\n",
    "y = data['customer_segment']\n",
    "\n",
    "# Dividir los datos en entrenamiento y prueba\n",
    "X_train, X_test, y_train, y_test = train_test_split(X, y, test_size=0.2, random_state=42)\n",
    "print(\"Tamaño de X_train:\", len(X_train))"
   ]
  },
  {
   "cell_type": "code",
   "execution_count": 16,
   "id": "bd9a7fb7",
   "metadata": {},
   "outputs": [
    {
     "name": "stdout",
     "output_type": "stream",
     "text": [
      "Valores NaN en X_train: 0\n",
      "Valores NaN en y_train: 0\n"
     ]
    }
   ],
   "source": [
    "# Confirmar que no hay valores NaN en los datos de entrenamiento\n",
    "print(\"Valores NaN en X_train:\", X_train.isnull().sum().sum())\n",
    "print(\"Valores NaN en y_train:\", y_train.isnull().sum().sum())"
   ]
  },
  {
   "cell_type": "markdown",
   "id": "0eccc207",
   "metadata": {},
   "source": [
    "# 5. Inicialización de SageMaker y Carga de Datos a S3"
   ]
  },
  {
   "cell_type": "code",
   "execution_count": 17,
   "id": "15c8c419",
   "metadata": {},
   "outputs": [
    {
     "name": "stdout",
     "output_type": "stream",
     "text": [
      "Archivos train.libsvm y test.libsvm creados.\n",
      "Datos cargados a S3:\n",
      "Train: s3://sagemaker-test-api-bucket20/customer-classification/train.libsvm\n",
      "Test: s3://sagemaker-test-api-bucket20/customer-classification/test.libsvm\n"
     ]
    }
   ],
   "source": [
    "# Inicialización de sesión de SageMaker\n",
    "session = sagemaker.Session()\n",
    "\n",
    "# Guardar los datos en formato LIBSVM\n",
    "from sklearn.datasets import dump_svmlight_file\n",
    "dump_svmlight_file(X_train, y_train, \"train.libsvm\")\n",
    "dump_svmlight_file(X_test, y_test, \"test.libsvm\")\n",
    "print(\"Archivos train.libsvm y test.libsvm creados.\")\n",
    "\n",
    "# Cargar los archivos a S3\n",
    "s3_input_train = session.upload_data(\"train.libsvm\", bucket=bucket, key_prefix='customer-classification')\n",
    "s3_input_validation = session.upload_data(\"test.libsvm\", bucket=bucket, key_prefix='customer-classification')\n",
    "\n",
    "print(f\"Datos cargados a S3:\\nTrain: {s3_input_train}\\nTest: {s3_input_validation}\")"
   ]
  },
  {
   "cell_type": "markdown",
   "id": "dd820c17",
   "metadata": {},
   "source": [
    "# 6. Configuración del Estimador de SageMaker para XGBoost\n"
   ]
  },
  {
   "cell_type": "code",
   "execution_count": 18,
   "id": "ba9d26f4",
   "metadata": {},
   "outputs": [],
   "source": [
    "from sagemaker import get_execution_role\n",
    "from sagemaker.estimator import Estimator\n",
    "\n",
    "# Crear el Estimador para el modelo XGBoost\n",
    "xgboost_container = sagemaker.image_uris.retrieve(\n",
    "    \"xgboost\",  # Framework\n",
    "    sagemaker.Session().boto_region_name,  # Región\n",
    "    version=\"1.5-1\"  # Versión del contenedor\n",
    ")\n",
    "\n",
    "xgb = Estimator(\n",
    "    image_uri=xgboost_container,\n",
    "    role=sagemaker.get_execution_role(),\n",
    "    instance_count=1,\n",
    "    instance_type=\"ml.m4.xlarge\",\n",
    "    volume_size=5,\n",
    "    max_run=300,\n",
    "    output_path=f's3://{bucket}/customer-classification/',\n",
    "    sagemaker_session=session\n",
    ")\n",
    "\n",
    "# Configurar hiperparámetros para clasificación multiclase\n",
    "xgb.set_hyperparameters(\n",
    "    objective=\"multi:softmax\",\n",
    "    num_class=3,  \n",
    "    eta=0.1,\n",
    "    max_depth=5,\n",
    "    subsample=0.8,\n",
    "    colsample_bytree=0.8,\n",
    "    num_round=100\n",
    ")"
   ]
  },
  {
   "cell_type": "markdown",
   "id": "32f9827f",
   "metadata": {},
   "source": [
    "# 7. Entrenamiento del Modelo"
   ]
  },
  {
   "cell_type": "code",
   "execution_count": 19,
   "id": "59421666",
   "metadata": {},
   "outputs": [
    {
     "name": "stderr",
     "output_type": "stream",
     "text": [
      "INFO:sagemaker:Creating training-job with name: sagemaker-xgboost-2024-12-04-21-09-31-483\n"
     ]
    },
    {
     "name": "stdout",
     "output_type": "stream",
     "text": [
      "2024-12-04 21:09:35 Starting - Starting the training job...\n",
      "2024-12-04 21:09:50 Starting - Preparing the instances for training...\n",
      "2024-12-04 21:10:14 Downloading - Downloading input data...\n",
      "2024-12-04 21:10:50 Downloading - Downloading the training image......\n",
      "2024-12-04 21:12:01 Training - Training image download completed. Training in progress.\n",
      "2024-12-04 21:12:01 Uploading - Uploading generated training model\u001b[34m/miniconda3/lib/python3.8/site-packages/xgboost/compat.py:36: FutureWarning: pandas.Int64Index is deprecated and will be removed from pandas in a future version. Use pandas.Index with the appropriate dtype instead.\n",
      "  from pandas import MultiIndex, Int64Index\u001b[0m\n",
      "\u001b[34m[2024-12-04 21:11:57.268 ip-10-2-67-40.ec2.internal:7 INFO utils.py:28] RULE_JOB_STOP_SIGNAL_FILENAME: None\u001b[0m\n",
      "\u001b[34m[2024-12-04 21:11:57.293 ip-10-2-67-40.ec2.internal:7 INFO profiler_config_parser.py:111] User has disabled profiler.\u001b[0m\n",
      "\u001b[34m[2024-12-04:21:11:57:INFO] Imported framework sagemaker_xgboost_container.training\u001b[0m\n",
      "\u001b[34m[2024-12-04:21:11:57:INFO] Failed to parse hyperparameter objective value multi:softmax to Json.\u001b[0m\n",
      "\u001b[34mReturning the value itself\u001b[0m\n",
      "\u001b[34m[2024-12-04:21:11:57:INFO] No GPUs detected (normal if no gpus installed)\u001b[0m\n",
      "\u001b[34m[2024-12-04:21:11:57:INFO] Running XGBoost Sagemaker in algorithm mode\u001b[0m\n",
      "\u001b[34m[2024-12-04:21:11:57:INFO] Determined 0 GPU(s) available on the instance.\u001b[0m\n",
      "\u001b[34m[2024-12-04:21:11:57:INFO] files path: /opt/ml/input/data/train\u001b[0m\n",
      "\u001b[34m[2024-12-04:21:11:57:INFO] files path: /opt/ml/input/data/validation\u001b[0m\n",
      "\u001b[34m[2024-12-04:21:11:57:INFO] Single node training.\u001b[0m\n",
      "\u001b[34m[2024-12-04:21:11:57:INFO] Train matrix has 800 rows and 10 columns\u001b[0m\n",
      "\u001b[34m[2024-12-04:21:11:57:INFO] Validation matrix has 200 rows\u001b[0m\n",
      "\u001b[34m[2024-12-04 21:11:57.729 ip-10-2-67-40.ec2.internal:7 INFO json_config.py:92] Creating hook from json_config at /opt/ml/input/config/debughookconfig.json.\u001b[0m\n",
      "\u001b[34m[2024-12-04 21:11:57.729 ip-10-2-67-40.ec2.internal:7 INFO hook.py:206] tensorboard_dir has not been set for the hook. SMDebug will not be exporting tensorboard summaries.\u001b[0m\n",
      "\u001b[34m[2024-12-04 21:11:57.730 ip-10-2-67-40.ec2.internal:7 INFO hook.py:259] Saving to /opt/ml/output/tensors\u001b[0m\n",
      "\u001b[34m[2024-12-04 21:11:57.730 ip-10-2-67-40.ec2.internal:7 INFO state_store.py:77] The checkpoint config file /opt/ml/input/config/checkpointconfig.json does not exist.\u001b[0m\n",
      "\u001b[34m[2024-12-04:21:11:57:INFO] Debug hook created from config\u001b[0m\n",
      "\u001b[34m[21:11:57] WARNING: ../src/learner.cc:1115: Starting in XGBoost 1.3.0, the default evaluation metric used with the objective 'multi:softmax' was changed from 'merror' to 'mlogloss'. Explicitly set eval_metric if you'd like to restore the old behavior.\u001b[0m\n",
      "\u001b[34m[0]#011train-mlogloss:0.96983#011validation-mlogloss:0.97792\u001b[0m\n",
      "\u001b[34m[2024-12-04 21:11:57.751 ip-10-2-67-40.ec2.internal:7 INFO hook.py:427] Monitoring the collections: metrics\u001b[0m\n",
      "\u001b[34m[2024-12-04 21:11:57.754 ip-10-2-67-40.ec2.internal:7 INFO hook.py:491] Hook is writing from the hook with pid: 7\u001b[0m\n",
      "\u001b[34m[1]#011train-mlogloss:0.85505#011validation-mlogloss:0.86495\u001b[0m\n",
      "\u001b[34m[2]#011train-mlogloss:0.75792#011validation-mlogloss:0.77071\u001b[0m\n",
      "\u001b[34m[3]#011train-mlogloss:0.67559#011validation-mlogloss:0.69083\u001b[0m\n",
      "\u001b[34m[4]#011train-mlogloss:0.61170#011validation-mlogloss:0.63033\u001b[0m\n",
      "\u001b[34m[5]#011train-mlogloss:0.55415#011validation-mlogloss:0.57437\u001b[0m\n",
      "\u001b[34m[6]#011train-mlogloss:0.49861#011validation-mlogloss:0.52061\u001b[0m\n",
      "\u001b[34m[7]#011train-mlogloss:0.46070#011validation-mlogloss:0.48414\u001b[0m\n",
      "\u001b[34m[8]#011train-mlogloss:0.42224#011validation-mlogloss:0.44787\u001b[0m\n",
      "\u001b[34m[9]#011train-mlogloss:0.37807#011validation-mlogloss:0.40240\u001b[0m\n",
      "\u001b[34m[10]#011train-mlogloss:0.35220#011validation-mlogloss:0.37844\u001b[0m\n",
      "\u001b[34m[11]#011train-mlogloss:0.31840#011validation-mlogloss:0.34433\u001b[0m\n",
      "\u001b[34m[12]#011train-mlogloss:0.29180#011validation-mlogloss:0.31693\u001b[0m\n",
      "\u001b[34m[13]#011train-mlogloss:0.26408#011validation-mlogloss:0.28880\u001b[0m\n",
      "\u001b[34m[14]#011train-mlogloss:0.24118#011validation-mlogloss:0.26668\u001b[0m\n",
      "\u001b[34m[15]#011train-mlogloss:0.22434#011validation-mlogloss:0.25182\u001b[0m\n",
      "\u001b[34m[16]#011train-mlogloss:0.20223#011validation-mlogloss:0.22799\u001b[0m\n",
      "\u001b[34m[17]#011train-mlogloss:0.18381#011validation-mlogloss:0.20856\u001b[0m\n",
      "\u001b[34m[18]#011train-mlogloss:0.16900#011validation-mlogloss:0.19317\u001b[0m\n",
      "\u001b[34m[19]#011train-mlogloss:0.15763#011validation-mlogloss:0.18213\u001b[0m\n",
      "\u001b[34m[20]#011train-mlogloss:0.14589#011validation-mlogloss:0.17058\u001b[0m\n",
      "\u001b[34m[21]#011train-mlogloss:0.13703#011validation-mlogloss:0.16339\u001b[0m\n",
      "\u001b[34m[22]#011train-mlogloss:0.12710#011validation-mlogloss:0.15305\u001b[0m\n",
      "\u001b[34m[23]#011train-mlogloss:0.11761#011validation-mlogloss:0.14284\u001b[0m\n",
      "\u001b[34m[24]#011train-mlogloss:0.10907#011validation-mlogloss:0.13344\u001b[0m\n",
      "\u001b[34m[25]#011train-mlogloss:0.09954#011validation-mlogloss:0.12250\u001b[0m\n",
      "\u001b[34m[26]#011train-mlogloss:0.09235#011validation-mlogloss:0.11440\u001b[0m\n",
      "\u001b[34m[27]#011train-mlogloss:0.08395#011validation-mlogloss:0.10434\u001b[0m\n",
      "\u001b[34m[28]#011train-mlogloss:0.07808#011validation-mlogloss:0.09848\u001b[0m\n",
      "\u001b[34m[29]#011train-mlogloss:0.07351#011validation-mlogloss:0.09422\u001b[0m\n",
      "\u001b[34m[30]#011train-mlogloss:0.06996#011validation-mlogloss:0.09116\u001b[0m\n",
      "\u001b[34m[31]#011train-mlogloss:0.06411#011validation-mlogloss:0.08383\u001b[0m\n",
      "\u001b[34m[32]#011train-mlogloss:0.06002#011validation-mlogloss:0.07936\u001b[0m\n",
      "\u001b[34m[33]#011train-mlogloss:0.05518#011validation-mlogloss:0.07354\u001b[0m\n",
      "\u001b[34m[34]#011train-mlogloss:0.05219#011validation-mlogloss:0.07097\u001b[0m\n",
      "\u001b[34m[35]#011train-mlogloss:0.04804#011validation-mlogloss:0.06615\u001b[0m\n",
      "\u001b[34m[36]#011train-mlogloss:0.04480#011validation-mlogloss:0.06296\u001b[0m\n",
      "\u001b[34m[37]#011train-mlogloss:0.04098#011validation-mlogloss:0.05766\u001b[0m\n",
      "\u001b[34m[38]#011train-mlogloss:0.03877#011validation-mlogloss:0.05560\u001b[0m\n",
      "\u001b[34m[39]#011train-mlogloss:0.03621#011validation-mlogloss:0.05253\u001b[0m\n",
      "\u001b[34m[40]#011train-mlogloss:0.03431#011validation-mlogloss:0.05069\u001b[0m\n",
      "\u001b[34m[41]#011train-mlogloss:0.03247#011validation-mlogloss:0.04862\u001b[0m\n",
      "\u001b[34m[42]#011train-mlogloss:0.03075#011validation-mlogloss:0.04666\u001b[0m\n",
      "\u001b[34m[43]#011train-mlogloss:0.02920#011validation-mlogloss:0.04527\u001b[0m\n",
      "\u001b[34m[44]#011train-mlogloss:0.02715#011validation-mlogloss:0.04233\u001b[0m\n",
      "\u001b[34m[45]#011train-mlogloss:0.02582#011validation-mlogloss:0.04088\u001b[0m\n",
      "\u001b[34m[46]#011train-mlogloss:0.02384#011validation-mlogloss:0.03810\u001b[0m\n",
      "\u001b[34m[47]#011train-mlogloss:0.02236#011validation-mlogloss:0.03621\u001b[0m\n",
      "\u001b[34m[48]#011train-mlogloss:0.02114#011validation-mlogloss:0.03450\u001b[0m\n",
      "\u001b[34m[49]#011train-mlogloss:0.02047#011validation-mlogloss:0.03410\u001b[0m\n",
      "\u001b[34m[50]#011train-mlogloss:0.01912#011validation-mlogloss:0.03189\u001b[0m\n",
      "\u001b[34m[51]#011train-mlogloss:0.01772#011validation-mlogloss:0.02953\u001b[0m\n",
      "\u001b[34m[52]#011train-mlogloss:0.01679#011validation-mlogloss:0.02849\u001b[0m\n",
      "\u001b[34m[53]#011train-mlogloss:0.01561#011validation-mlogloss:0.02668\u001b[0m\n",
      "\u001b[34m[54]#011train-mlogloss:0.01458#011validation-mlogloss:0.02517\u001b[0m\n",
      "\u001b[34m[55]#011train-mlogloss:0.01362#011validation-mlogloss:0.02371\u001b[0m\n",
      "\u001b[34m[56]#011train-mlogloss:0.01288#011validation-mlogloss:0.02262\u001b[0m\n",
      "\u001b[34m[57]#011train-mlogloss:0.01209#011validation-mlogloss:0.02147\u001b[0m\n",
      "\u001b[34m[58]#011train-mlogloss:0.01154#011validation-mlogloss:0.02079\u001b[0m\n",
      "\u001b[34m[59]#011train-mlogloss:0.01112#011validation-mlogloss:0.02047\u001b[0m\n",
      "\u001b[34m[60]#011train-mlogloss:0.01055#011validation-mlogloss:0.01963\u001b[0m\n",
      "\u001b[34m[61]#011train-mlogloss:0.00997#011validation-mlogloss:0.01878\u001b[0m\n",
      "\u001b[34m[62]#011train-mlogloss:0.00965#011validation-mlogloss:0.01833\u001b[0m\n",
      "\u001b[34m[63]#011train-mlogloss:0.00931#011validation-mlogloss:0.01791\u001b[0m\n",
      "\u001b[34m[64]#011train-mlogloss:0.00894#011validation-mlogloss:0.01724\u001b[0m\n",
      "\u001b[34m[65]#011train-mlogloss:0.00848#011validation-mlogloss:0.01678\u001b[0m\n",
      "\u001b[34m[66]#011train-mlogloss:0.00825#011validation-mlogloss:0.01643\u001b[0m\n",
      "\u001b[34m[67]#011train-mlogloss:0.00788#011validation-mlogloss:0.01601\u001b[0m\n",
      "\u001b[34m[68]#011train-mlogloss:0.00760#011validation-mlogloss:0.01563\u001b[0m\n",
      "\u001b[34m[69]#011train-mlogloss:0.00734#011validation-mlogloss:0.01517\u001b[0m\n",
      "\u001b[34m[70]#011train-mlogloss:0.00701#011validation-mlogloss:0.01482\u001b[0m\n",
      "\u001b[34m[71]#011train-mlogloss:0.00676#011validation-mlogloss:0.01446\u001b[0m\n",
      "\u001b[34m[72]#011train-mlogloss:0.00655#011validation-mlogloss:0.01414\u001b[0m\n",
      "\u001b[34m[73]#011train-mlogloss:0.00638#011validation-mlogloss:0.01405\u001b[0m\n",
      "\u001b[34m[74]#011train-mlogloss:0.00615#011validation-mlogloss:0.01376\u001b[0m\n",
      "\u001b[34m[75]#011train-mlogloss:0.00596#011validation-mlogloss:0.01350\u001b[0m\n",
      "\u001b[34m[76]#011train-mlogloss:0.00575#011validation-mlogloss:0.01323\u001b[0m\n",
      "\u001b[34m[77]#011train-mlogloss:0.00562#011validation-mlogloss:0.01324\u001b[0m\n",
      "\u001b[34m[78]#011train-mlogloss:0.00546#011validation-mlogloss:0.01310\u001b[0m\n",
      "\u001b[34m[79]#011train-mlogloss:0.00537#011validation-mlogloss:0.01294\u001b[0m\n",
      "\u001b[34m[80]#011train-mlogloss:0.00519#011validation-mlogloss:0.01269\u001b[0m\n",
      "\u001b[34m[81]#011train-mlogloss:0.00504#011validation-mlogloss:0.01254\u001b[0m\n",
      "\u001b[34m[82]#011train-mlogloss:0.00493#011validation-mlogloss:0.01226\u001b[0m\n",
      "\u001b[34m[83]#011train-mlogloss:0.00484#011validation-mlogloss:0.01213\u001b[0m\n",
      "\u001b[34m[84]#011train-mlogloss:0.00477#011validation-mlogloss:0.01210\u001b[0m\n",
      "\u001b[34m[85]#011train-mlogloss:0.00470#011validation-mlogloss:0.01201\u001b[0m\n",
      "\u001b[34m[86]#011train-mlogloss:0.00464#011validation-mlogloss:0.01191\u001b[0m\n",
      "\u001b[34m[87]#011train-mlogloss:0.00458#011validation-mlogloss:0.01187\u001b[0m\n",
      "\u001b[34m[88]#011train-mlogloss:0.00450#011validation-mlogloss:0.01181\u001b[0m\n",
      "\u001b[34m[89]#011train-mlogloss:0.00447#011validation-mlogloss:0.01182\u001b[0m\n",
      "\u001b[34m[90]#011train-mlogloss:0.00443#011validation-mlogloss:0.01175\u001b[0m\n",
      "\u001b[34m[91]#011train-mlogloss:0.00441#011validation-mlogloss:0.01180\u001b[0m\n",
      "\u001b[34m[92]#011train-mlogloss:0.00436#011validation-mlogloss:0.01173\u001b[0m\n",
      "\u001b[34m[93]#011train-mlogloss:0.00434#011validation-mlogloss:0.01166\u001b[0m\n",
      "\u001b[34m[94]#011train-mlogloss:0.00428#011validation-mlogloss:0.01165\u001b[0m\n",
      "\u001b[34m[95]#011train-mlogloss:0.00424#011validation-mlogloss:0.01172\u001b[0m\n",
      "\u001b[34m[96]#011train-mlogloss:0.00418#011validation-mlogloss:0.01173\u001b[0m\n",
      "\u001b[34m[97]#011train-mlogloss:0.00415#011validation-mlogloss:0.01177\u001b[0m\n",
      "\u001b[34m[98]#011train-mlogloss:0.00413#011validation-mlogloss:0.01175\u001b[0m\n",
      "\u001b[34m[99]#011train-mlogloss:0.00409#011validation-mlogloss:0.01179\u001b[0m\n",
      "\n",
      "2024-12-04 21:12:14 Completed - Training job completed\n",
      "Training seconds: 120\n",
      "Billable seconds: 120\n"
     ]
    }
   ],
   "source": [
    "# Entrenar el modelo XGBoost\n",
    "modelo = xgb.fit({\"train\": s3_input_train, \"validation\": s3_input_validation})"
   ]
  },
  {
   "cell_type": "markdown",
   "id": "ef2ce262",
   "metadata": {},
   "source": [
    "# 8. Guardar el Modelo"
   ]
  },
  {
   "cell_type": "code",
   "execution_count": 20,
   "id": "72b2e555",
   "metadata": {},
   "outputs": [],
   "source": [
    "# Ruta del archivo en S3\n",
    "s3_model_path = 's3://sagemaker-test-api-bucket20/customer-classification/sagemaker-xgboost-2024-11-19-00-43-11-928/output/model.tar.gz'\n",
    "\n",
    "# Ruta local donde deseas guardar el archivo\n",
    "local_model_path = '/proyecto_dir20/model.tar.gz'"
   ]
  },
  {
   "cell_type": "code",
   "execution_count": 21,
   "id": "60d77d3d",
   "metadata": {},
   "outputs": [
    {
     "name": "stdout",
     "output_type": "stream",
     "text": [
      "El archivo proyecto_dir20/model.tar.gz existe.\n"
     ]
    }
   ],
   "source": [
    "import os\n",
    "\n",
    "local_model_path = 'proyecto_dir20/model.tar.gz'\n",
    "\n",
    "# Verificar si el archivo existe\n",
    "if os.path.exists(local_model_path):\n",
    "    print(f\"El archivo {local_model_path} existe.\")\n",
    "else:\n",
    "    print(f\"El archivo {local_model_path} no existe. Verifica la ruta.\")"
   ]
  },
  {
   "cell_type": "code",
   "execution_count": 22,
   "id": "86718f2e",
   "metadata": {},
   "outputs": [
    {
     "name": "stdout",
     "output_type": "stream",
     "text": [
      "Contenido del directorio: ['.ipynb_checkpoints', 'model.tar.gz', 'extracted_model']\n"
     ]
    }
   ],
   "source": [
    "# Verificar contenido de la carpeta\n",
    "directory_path = 'proyecto_dir20'\n",
    "print(\"Contenido del directorio:\", os.listdir(directory_path))"
   ]
  },
  {
   "cell_type": "code",
   "execution_count": 23,
   "id": "10cfb8d6",
   "metadata": {},
   "outputs": [
    {
     "name": "stdout",
     "output_type": "stream",
     "text": [
      "El archivo proyecto_dir20/model.tar.gz no es un archivo válido. Es un directorio.\n"
     ]
    }
   ],
   "source": [
    "# Verificar si es un archivo\n",
    "if os.path.isfile(local_model_path):\n",
    "    print(f\"El archivo {local_model_path} es un archivo válido.\")\n",
    "else:\n",
    "    print(f\"El archivo {local_model_path} no es un archivo válido. Es un directorio.\")"
   ]
  },
  {
   "cell_type": "code",
   "execution_count": 24,
   "id": "56e26fbe",
   "metadata": {},
   "outputs": [
    {
     "name": "stdout",
     "output_type": "stream",
     "text": [
      "El archivo proyecto_dir20/model.tar.gz/model.tar.gz existe.\n",
      "Archivos descomprimidos en: proyecto_dir20/extracted_model/model.tar.gz\n"
     ]
    }
   ],
   "source": [
    "import tarfile\n",
    "\n",
    "# Asegúrate de que la ruta al archivo sea correcta y esté completa\n",
    "local_model_path = 'proyecto_dir20/model.tar.gz/model.tar.gz'\n",
    "\n",
    "# Verificar si el archivo existe\n",
    "if os.path.exists(local_model_path):\n",
    "    print(f\"El archivo {local_model_path} existe.\")\n",
    "    \n",
    "    # Ruta donde se descomprimirán los archivos\n",
    "    extracted_model_path = 'proyecto_dir20/extracted_model/model.tar.gz'\n",
    "\n",
    "    # Descomprimir el archivo tar.gz\n",
    "    with tarfile.open(local_model_path, 'r:gz') as tar:\n",
    "        tar.extractall(path=extracted_model_path)\n",
    "    \n",
    "    print(f\"Archivos descomprimidos en: {extracted_model_path}\")\n",
    "else:\n",
    "    print(f\"El archivo {local_model_path} no existe. Verifica la ruta.\")\n"
   ]
  },
  {
   "cell_type": "markdown",
   "id": "414302e6",
   "metadata": {},
   "source": [
    "# 9. Desplegar el Modelo en SageMaker"
   ]
  },
  {
   "cell_type": "code",
   "execution_count": 25,
   "id": "d6fdcb05",
   "metadata": {},
   "outputs": [
    {
     "name": "stderr",
     "output_type": "stream",
     "text": [
      "INFO:sagemaker:Creating model with name: sagemaker-xgboost-2024-12-04-21-12-58-626\n",
      "INFO:sagemaker:Creating endpoint-config with name sagemaker-xgboost-2024-12-04-21-12-58-626\n",
      "INFO:sagemaker:Creating endpoint with name sagemaker-xgboost-2024-12-04-21-12-58-626\n"
     ]
    },
    {
     "name": "stdout",
     "output_type": "stream",
     "text": [
      "----------------!"
     ]
    }
   ],
   "source": [
    "# Desplegar el modelo entrenado para realizar predicciones\n",
    "predictor = xgb.deploy(initial_instance_count=1, instance_type=\"ml.t2.medium\")\n"
   ]
  },
  {
   "cell_type": "code",
   "execution_count": 26,
   "id": "f470e628",
   "metadata": {},
   "outputs": [],
   "source": [
    "# Realizar predicciones en el conjunto de prueba\n",
    "with open(\"test.libsvm\", \"r\") as file:\n",
    "    payload = file.read()\n",
    "y_pred = predictor.predict(payload, initial_args={\"ContentType\": \"text/libsvm\"})"
   ]
  },
  {
   "cell_type": "markdown",
   "id": "201245b1",
   "metadata": {},
   "source": [
    "# 10. Evaluación del Modelo"
   ]
  },
  {
   "cell_type": "code",
   "execution_count": 27,
   "id": "cba98c3f",
   "metadata": {},
   "outputs": [
    {
     "name": "stdout",
     "output_type": "stream",
     "text": [
      "200 800\n"
     ]
    }
   ],
   "source": [
    "print(len(y_test), len(y_pred))"
   ]
  },
  {
   "cell_type": "code",
   "execution_count": 28,
   "id": "49775022",
   "metadata": {},
   "outputs": [],
   "source": [
    "y_pred = y_pred[:len(y_test)]\n"
   ]
  },
  {
   "cell_type": "code",
   "execution_count": 29,
   "id": "4274741f",
   "metadata": {},
   "outputs": [
    {
     "name": "stdout",
     "output_type": "stream",
     "text": [
      "200 200\n"
     ]
    }
   ],
   "source": [
    "print(len(y_test), len(y_pred))"
   ]
  },
  {
   "cell_type": "code",
   "execution_count": 30,
   "id": "b36556f3",
   "metadata": {},
   "outputs": [
    {
     "name": "stdout",
     "output_type": "stream",
     "text": [
      "Accuracy: 0.86\n",
      "Precision: 0.7395999999999999\n",
      "Recall: 0.86\n",
      "F1-score: 0.795268817204301\n"
     ]
    },
    {
     "name": "stderr",
     "output_type": "stream",
     "text": [
      "/home/ec2-user/anaconda3/envs/python3/lib/python3.10/site-packages/sklearn/metrics/_classification.py:1531: UndefinedMetricWarning: Precision is ill-defined and being set to 0.0 in labels with no predicted samples. Use `zero_division` parameter to control this behavior.\n",
      "  _warn_prf(average, modifier, f\"{metric.capitalize()} is\", len(result))\n"
     ]
    }
   ],
   "source": [
    "# Si las predicciones son probabilidades (en clasificación binaria), convierte a clases\n",
    "y_pred = np.array([1 if float(p) > 0.5 else 0 for p in y_pred])\n",
    "\n",
    "# Calcular métricas de evaluación\n",
    "accuracy = accuracy_score(y_test, y_pred)\n",
    "precision = precision_score(y_test, y_pred, average='weighted')\n",
    "recall = recall_score(y_test, y_pred, average='weighted')\n",
    "f1 = f1_score(y_test, y_pred, average='weighted')\n",
    "\n",
    "# Imprimir las métricas\n",
    "print(\"Accuracy:\", accuracy)\n",
    "print(\"Precision:\", precision)\n",
    "print(\"Recall:\", recall)\n",
    "print(\"F1-score:\", f1)"
   ]
  },
  {
   "cell_type": "markdown",
   "id": "f71ed0d5",
   "metadata": {},
   "source": [
    "# 11. Obtener el Nombre del Endpoint"
   ]
  },
  {
   "cell_type": "code",
   "execution_count": 31,
   "id": "d6b02fd1",
   "metadata": {},
   "outputs": [
    {
     "name": "stderr",
     "output_type": "stream",
     "text": [
      "WARNING:sagemaker.deprecations:The endpoint attribute has been renamed in sagemaker>=2.\n",
      "See: https://sagemaker.readthedocs.io/en/stable/v2.html for details.\n"
     ]
    },
    {
     "name": "stdout",
     "output_type": "stream",
     "text": [
      "Endpoint name: sagemaker-xgboost-2024-12-04-21-12-58-626\n"
     ]
    }
   ],
   "source": [
    "# Nombre del endpoint\n",
    "print(f'Endpoint name: {predictor.endpoint}')"
   ]
  },
  {
   "cell_type": "markdown",
   "id": "93afb6c1",
   "metadata": {},
   "source": [
    "# 12. Eliminar monitor"
   ]
  },
  {
   "cell_type": "code",
   "execution_count": 32,
   "id": "ac29388e",
   "metadata": {},
   "outputs": [
    {
     "name": "stdout",
     "output_type": "stream",
     "text": [
      "{\n",
      "  \"MonitoringScheduleSummaries\": []\n",
      "}\n"
     ]
    }
   ],
   "source": [
    "\n",
    "import subprocess\n",
    "import json\n",
    "\n",
    "# Ejecuta el comando AWS CLI para listar los cronogramas de monitoreo\n",
    "command = \"aws sagemaker list-monitoring-schedules\"\n",
    "result = subprocess.run(command, shell=True, capture_output=True, text=True)\n",
    "\n",
    "# Imprime el resultado\n",
    "if result.returncode == 0:\n",
    "    # Si el comando se ejecutó correctamente, parsea el JSON y lo muestra\n",
    "    monitoring_schedules = json.loads(result.stdout)\n",
    "    print(json.dumps(monitoring_schedules, indent=2))\n",
    "else:\n",
    "    # Si hubo un error al ejecutar el comando, muestra el mensaje de error\n",
    "    print(f\"Error: {result.stderr}\")"
   ]
  },
  {
   "cell_type": "code",
   "execution_count": 33,
   "id": "9455763b",
   "metadata": {},
   "outputs": [
    {
     "name": "stdout",
     "output_type": "stream",
     "text": [
      "Error al detener el monitoreo: \n",
      "An error occurred (ResourceNotFound) when calling the StopMonitoringSchedule operation: Monitoring Schedule arn:aws:sagemaker:us-east-1:569548748090:monitoring-schedule/hora-data-quality-monitor20 not found\n",
      "\n"
     ]
    }
   ],
   "source": [
    "\n",
    "import subprocess\n",
    "\n",
    "# Nombre del cronograma de monitoreo\n",
    "monitor_name = \"hora-data-quality-monitor20\"\n",
    "\n",
    "# Comando para detener el cronograma de monitoreo\n",
    "command = f\"aws sagemaker stop-monitoring-schedule --monitoring-schedule-name {monitor_name}\"\n",
    "\n",
    "# Ejecuta el comando\n",
    "result = subprocess.run(command, shell=True, capture_output=True, text=True)\n",
    "\n",
    "# Verifica si el comando fue exitoso\n",
    "if result.returncode == 0:\n",
    "    print(f\"Monitoreo '{monitor_name}' detenido correctamente.\")\n",
    "else:\n",
    "    print(f\"Error al detener el monitoreo: {result.stderr}\")"
   ]
  },
  {
   "cell_type": "code",
   "execution_count": 35,
   "id": "4c2dd47c",
   "metadata": {},
   "outputs": [
    {
     "data": {
      "text/plain": [
       "'\\nimport boto3\\n\\n# Inicializa el cliente de SageMaker\\nsagemaker_client = boto3.client(\\'sagemaker\\')\\n\\n# Nombre del monitoreo que deseas eliminar\\nmonitoring_schedule_name = \\'hora-data-quality-monitor20\\'\\n\\n# Eliminar el monitoreo\\nresponse = sagemaker_client.delete_monitoring_schedule(\\n    MonitoringScheduleName=monitoring_schedule_name\\n)\\n\\n# Imprimir la respuesta\\nprint(\"Monitoreo eliminado:\", response)'"
      ]
     },
     "execution_count": 35,
     "metadata": {},
     "output_type": "execute_result"
    }
   ],
   "source": [
    "'''\n",
    "import boto3\n",
    "\n",
    "# Inicializa el cliente de SageMaker\n",
    "sagemaker_client = boto3.client('sagemaker')\n",
    "\n",
    "# Nombre del monitoreo que deseas eliminar\n",
    "monitoring_schedule_name = 'hora-data-quality-monitor20'\n",
    "\n",
    "# Eliminar el monitoreo\n",
    "response = sagemaker_client.delete_monitoring_schedule(\n",
    "    MonitoringScheduleName=monitoring_schedule_name\n",
    ")\n",
    "\n",
    "# Imprimir la respuesta\n",
    "print(\"Monitoreo eliminado:\", response)'''"
   ]
  },
  {
   "cell_type": "code",
   "execution_count": null,
   "id": "b8fc207a",
   "metadata": {},
   "outputs": [],
   "source": [
    "#predictor.delete_endpoint()"
   ]
  },
  {
   "cell_type": "code",
   "execution_count": null,
   "id": "3d922f39",
   "metadata": {},
   "outputs": [],
   "source": []
  }
 ],
 "metadata": {
  "kernelspec": {
   "display_name": "conda_python3",
   "language": "python",
   "name": "conda_python3"
  },
  "language_info": {
   "codemirror_mode": {
    "name": "ipython",
    "version": 3
   },
   "file_extension": ".py",
   "mimetype": "text/x-python",
   "name": "python",
   "nbconvert_exporter": "python",
   "pygments_lexer": "ipython3",
   "version": "3.10.15"
  }
 },
 "nbformat": 4,
 "nbformat_minor": 5
}
